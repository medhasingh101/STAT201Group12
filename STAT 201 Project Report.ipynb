{
 "cells": [
  {
   "cell_type": "markdown",
   "metadata": {},
   "source": [
    "# STAT 201 Group Project: Group 12"
   ]
  },
  {
   "cell_type": "markdown",
   "metadata": {},
   "source": [
    "## Statistical Inference: Time Of Occurrence Of Comparable Violent vs. Less Violent Crimes\n",
    "**Group Members:** Rashi Selarka, Alice Zhang, Medha Singh"
   ]
  },
  {
   "cell_type": "code",
   "execution_count": null,
   "metadata": {},
   "outputs": [],
   "source": [
    "library(tidyverse)\n",
    "library(repr)\n",
    "library(datateachr)\n",
    "library(digest)\n",
    "library(infer)\n",
    "library(gridExtra)\n",
    "library(cowplot)\n",
    "library(caret)"
   ]
  },
  {
   "cell_type": "markdown",
   "metadata": {},
   "source": [
    "### Introduction\n",
    "\n",
    "Large-scale studies of crime data from the FBI demonstrates that violent crimes often happen at night (Bannister, 2019). This statement seems reasonable since the victims are easier targets and witnesses become unlikely. We wanted to test this statement, and take it a step further by examining how different types of crimes may correlate with the time they take place at by looking at (seemingly) similar crimes and testing if they occur at similar times. The question we'll aim to answer is:\n",
    "\n",
    "_**Is the mean time of occurrence of violent / more serious crimes different from the mean time of occurrence of less violent / less serious crimes?**_\n",
    "\n",
    "We'll be focusing our report on 2 hypothesis tests to answer this question - one comparing the mean times between the violent crime of vehicle collision with _fatality_ vs. the relatively less violent crime of vehicle collision with _injury_, and another comparing the mean times between the violent crime of theft _of_ vehicle vs. the relatively less violent crime of theft _from_ vehicle.\n",
    "\n",
    "We have used the Vancouver crime data found on the Vancouver Police Department's website for our analysis, which consists of crime data on a year-by-year basis beginning in 2003, designed in a way to provide individuals with a general overview of criminal activity falling into several categories. Through this investigation, we hope to gain not just a better understanding of hypothesis testing, but also of the time of day we are more vulnerable to certain crimes (Brands, 2013)."
   ]
  },
  {
   "cell_type": "markdown",
   "metadata": {},
   "source": [
    "### Methods: Preliminary Results\n",
    "\n",
    "Note: The data had to be locally stored and loaded into the notebook since the website doesn't have an option to scrape it. It must be downloaded onto the server home to be accessed."
   ]
  },
  {
   "cell_type": "code",
   "execution_count": null,
   "metadata": {},
   "outputs": [],
   "source": [
    "crime_data <- read_csv(\"/home/jupyter/crimedata_csv_all_years.csv\")"
   ]
  },
  {
   "cell_type": "code",
   "execution_count": null,
   "metadata": {},
   "outputs": [],
   "source": [
    "head(crime_data)"
   ]
  },
  {
   "cell_type": "markdown",
   "metadata": {},
   "source": [
    "Of the various types of crime listed in the dataset, we have picked these 4 to analyse:\n",
    "* **Vehicle Collision or Pedestrian Struck (with Fatality)**: Includes primarily pedestrian or cyclist struck and killed by a vehicle. It also includes vehicle to vehicle fatal accidents, however these incidents are fewer in number when compared to the overall data set.\n",
    "* **Vehicle Collision or Pedestrian Struck (with Injury)**: Includes all categories of vehicle involved accidents with injuries. This includes pedestrian and cyclist involved incidents with injuries.\n",
    "* **Theft from Vehicle**: Theft of property from a vehicle.\n",
    "* **Theft of Vehicle**: Theft of a vehicle, motorcycle, or any motor vehicle."
   ]
  },
  {
   "cell_type": "markdown",
   "metadata": {},
   "source": [
    "Since we are focusing on the time of occurence of the data, we selected the columns of TYPE and HOUR. We go on to filter out the 2 pairs of specific crimes that we have chosen for our inference.\n",
    "We also look at the frequency of see if the attributes are balanced or not, and if they are not, we plan to do that further on in the project. Basic summary statistics about the dataset are generated as well to make sure the data is balanced - we chose the mean and standard deviation as our descriptive parameters."
   ]
  },
  {
   "cell_type": "code",
   "execution_count": null,
   "metadata": {
    "scrolled": true
   },
   "outputs": [],
   "source": [
    "crime_data_grouped <- crime_data %>%\n",
    "            group_by(TYPE) %>%\n",
    "            select(TYPE, HOUR) %>%\n",
    "            data.frame()\n",
    "\n",
    "\n",
    "crime_data_sort <- crime_data_grouped[ order( crime_data_grouped$HOUR), ] %>%\n",
    "                select(TYPE, HOUR)%>%\n",
    "                as.tibble()%>%\n",
    "                filter(TYPE == \"Vehicle Collision or Pedestrian Struck (with Injury)\" | \n",
    "                       TYPE == \"Vehicle Collision or Pedestrian Struck (with Fatality)\"|\n",
    "                       TYPE == \"Theft of Vehicle\" | \n",
    "                       TYPE == \"Theft from Vehicle\")\n",
    "head(crime_data_sort)\n",
    "tail(crime_data_sort)\n",
    "cd_count <- crime_data_sort %>%\n",
    "            group_by(TYPE) %>%\n",
    "            summarize(count=n())\n",
    "cd_count\n"
   ]
  },
  {
   "cell_type": "markdown",
   "metadata": {},
   "source": [
    "Here, we plot a boxplot of the data to better visualise and compare the distributions of the occurrence times of the crimes."
   ]
  },
  {
   "cell_type": "code",
   "execution_count": null,
   "metadata": {},
   "outputs": [],
   "source": [
    "#scale the plot \n",
    "options(repr.plot.width = 12, repr.plot.height = 12)\n",
    "cd_plot <- crime_data_sort %>%  \n",
    "    ggplot(aes(x = TYPE, y = HOUR)) + \n",
    "    geom_boxplot() + \n",
    "    ylab(\"hour of the day for the crime\") +\n",
    "    ggtitle(\"Boxplots of hours of day for different crimes\") +\n",
    "    theme(axis.text.x = element_text(size=15, angle = 55), \n",
    "          axis.text.y = element_text( size = 12, angle = 45), \n",
    "          text = element_text(face = \"bold\", size = 15)) \n",
    "cd_plot"
   ]
  },
  {
   "cell_type": "markdown",
   "metadata": {},
   "source": [
    "Now we look at the bootstrapped sampling distribution of means for our testing. "
   ]
  },
  {
   "cell_type": "code",
   "execution_count": null,
   "metadata": {},
   "outputs": [],
   "source": [
    "options(repr.plot.width = 10, repr.plot.height = 10)\n",
    "\n",
    "theft_of_vehicle_bootstrap <- crime_data_sort %>%\n",
    "                    filter(TYPE==\"Theft of Vehicle\" ) %>%\n",
    "                    rep_sample_n(size = 30, reps=10000, replace = TRUE)\n",
    "\n",
    "sampling_dist_theftof <- theft_of_vehicle_bootstrap %>%\n",
    "                    group_by(replicate)%>%\n",
    "                    summarize(mean = mean(HOUR))\n",
    "sampling_dist_plot <- sampling_dist_theftof %>%\n",
    "                ggplot() + \n",
    "                geom_histogram(aes(mean), bins = 15, color=\"white\") +\n",
    "                xlab(\"mean time of theft from vehicle\") + \n",
    "                theme(text = element_text(size=15)) + \n",
    "                ggtitle(\"Bootstrapped sampling dist.\", subtitle = \"mean time of theft from vehicle\") \n",
    "\n",
    "\n",
    "head(theft_of_vehicle_bootstrap)\n",
    "head(sampling_dist_theftof)\n",
    "sampling_dist_plot"
   ]
  },
  {
   "cell_type": "code",
   "execution_count": null,
   "metadata": {},
   "outputs": [],
   "source": [
    "options(repr.plot.width = 10, repr.plot.height = 10)\n",
    "\n",
    "vehical_col_inj_bootstrap <- crime_data_sort %>%\n",
    "                    filter(TYPE==\"Vehicle Collision or Pedestrian Struck (with Injury)\" ) %>%\n",
    "                    rep_sample_n(size = 30, reps=10000, replace = TRUE)\n",
    "\n",
    "sampling_dist_vc_inj <- vehical_col_inj_bootstrap %>%\n",
    "                    group_by(replicate)%>%\n",
    "                    summarize(mean = mean(HOUR))\n",
    "sampling_dist_plot_vc <- sampling_dist_vc_inj %>%\n",
    "                ggplot() + \n",
    "                geom_histogram(aes(mean), bins = 15, color=\"white\") +\n",
    "                xlab(\"mean time at which vehicle collision occured\") + \n",
    "                theme(text = element_text(size=15)) + \n",
    "                ggtitle(\"Bootstrapped sampling dist.\", subtitle = \"mean time at which vehicle collision occured\") \n",
    "\n",
    "\n",
    "head(vehical_col_inj_bootstrap)\n",
    "head(sampling_dist_vc_inj)\n",
    "sampling_dist_plot_vc"
   ]
  },
  {
   "cell_type": "markdown",
   "metadata": {},
   "source": [
    "These bootstapped samples helped us estimate if the average time of occurrence of Theft of Vehicle is comparable with Theft from Vehicle, and if Vehicle Collision with Fatality is comparable with Vehicle Collision with Injury."
   ]
  },
  {
   "cell_type": "markdown",
   "metadata": {},
   "source": []
  },
  {
   "cell_type": "code",
   "execution_count": null,
   "metadata": {},
   "outputs": [],
   "source": []
  },
  {
   "cell_type": "markdown",
   "metadata": {},
   "source": [
    "### Methods: Hypothesis Test I: Vehicle Collision with Fatality vs. Vehicle Collision with Injury\n",
    "\n",
    "MEDHA PLEASE TAKE THIS! Start adding cells and working below here:"
   ]
  },
  {
   "cell_type": "code",
   "execution_count": null,
   "metadata": {},
   "outputs": [],
   "source": []
  },
  {
   "cell_type": "markdown",
   "metadata": {},
   "source": [
    "### Methods: Hypothesis Test II: Theft of Vehicle vs. Theft from Vehicle\n",
    "\n",
    "ALICE PLEASE TAKE THIS! Start adding cells and working below here:"
   ]
  },
  {
   "cell_type": "code",
   "execution_count": null,
   "metadata": {},
   "outputs": [],
   "source": []
  },
  {
   "cell_type": "markdown",
   "metadata": {},
   "source": [
    "### Discussion\n",
    "\n",
    "We initially expected our results to corroborate the alternative hypotheses - that car accidents involving death are expected to happen later (i.e. at a different time) than ones with just injury, owing to drivers going at higher speeds at night, there being lower visibility, and more drunk and reckless drivers on the road. And we expect that theft of vehicle and theft from vehicle doesn’t happen at around the same time of day on average as well as theft from vehicle can take place all throughout the day depending on the neighbourhood _(an interesting uncertainty for future research to examine)_ whereas theft of vehicle is likely to happen when it’s more isolated (perhaps later at night).\n",
    "\n",
    "~ a paragraph about the significance of the results + conclusion once we get them (mention that crimes are similar) ~\n",
    "\n",
    "Our inference most crucially provides a starting point for law enforcement to go about predicting the time during which certain types of crimes are likely to occur. It is also useful for the general adult population to know about, so one would know what time of day they are more vulnerable and should be taking more precautions.\n",
    "\n",
    "The questions that arise for the future are many - other than time of day, what are other predictors we could look at; perhaps certain months when crime spikes? Also, if perhaps the month and time of day are related? Maybe crime could occur at earlier hours in the winter months because it gets dark sooner, etc. It's worth looking into a more diverse dataset that could provide information about what the crime was vs. what the criminal was actually convicted of or what punishment they served - potential miscarriage of justice is an extremely relevant issue in the world currently, and statistical insights into it would largely help build a case when necessary."
   ]
  },
  {
   "cell_type": "markdown",
   "metadata": {},
   "source": [
    "**References**\n",
    "\n",
    "Crimes that Happen While You Sleep. (2020, November 04). Retrieved from https://www.thesleepjudge.com/crimes-that-happen-while-you-sleep/\n",
    "\n",
    "Bannister J, O’Sullivan A, Bates E. Place and time in the Criminology of Place. Theoretical Criminology. 2019;23(3):315-332. doi:10.1177/1362480617733726\n",
    "\n",
    "Brands, J., Schwanen, T., & Aalst, I. V. (2013). Fear of crime and affective ambiguities in the night-time economy. Urban Studies, 52(3), 439-455. doi:10.1177/0042098013505652\n",
    "\n",
    "Vancouver Police Department: Crime Data. Retrieved from https://geodash.vpd.ca/opendata/\n",
    "\n",
    "Violent Crimes Most Likely to Occur At Night. (2019, June 14). Retrieved from https://www.securitymagazine.com/articles/90384-murder-robbery-and-driving-while-impaired-happen-at-night\n",
    "\n",
    "Violent Crime. (2018, September 10). Retrieved from https://ucr.fbi.gov/crime-in-the-u.s/2017/crime-in-the-u.s.-2017/topic-pages/violent-crime\n"
   ]
  },
  {
   "cell_type": "code",
   "execution_count": null,
   "metadata": {},
   "outputs": [],
   "source": []
  }
 ],
 "metadata": {
  "kernelspec": {
   "display_name": "R",
   "language": "R",
   "name": "ir"
  },
  "language_info": {
   "codemirror_mode": "r",
   "file_extension": ".r",
   "mimetype": "text/x-r-source",
   "name": "R",
   "pygments_lexer": "r",
   "version": "4.0.0"
  }
 },
 "nbformat": 4,
 "nbformat_minor": 4
}
