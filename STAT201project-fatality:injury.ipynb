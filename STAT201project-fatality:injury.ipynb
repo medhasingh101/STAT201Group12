{
 "cells": [
  {
   "cell_type": "markdown",
   "metadata": {},
   "source": [
    "This is the hypothesis for conducting a one-tailed hypothesis test on whether vehicle collision or pedestrian struck with fatality occurs later than just that with injury."
   ]
  },
  {
   "cell_type": "markdown",
   "metadata": {},
   "source": [
    "* **Import packages and Data**"
   ]
  },
  {
   "cell_type": "code",
   "execution_count": 24,
   "metadata": {},
   "outputs": [
    {
     "name": "stderr",
     "output_type": "stream",
     "text": [
      "Warning message:\n",
      "“package ‘broom’ was built under R version 4.0.2”\n"
     ]
    }
   ],
   "source": [
    "library(tidyverse)\n",
    "library(repr)\n",
    "library(datateachr)\n",
    "library(digest)\n",
    "library(infer)\n",
    "library(gridExtra)\n",
    "library(cowplot)\n",
    "library(caret)\n",
    "library(stringr)\n",
    "library(broom)"
   ]
  },
  {
   "cell_type": "code",
   "execution_count": 2,
   "metadata": {},
   "outputs": [],
   "source": [
    "crime_data <- read.csv(\"/home/jupyter/crimedata_csv_all_years (1).csv\")"
   ]
  },
  {
   "cell_type": "code",
   "execution_count": 3,
   "metadata": {},
   "outputs": [
    {
     "data": {
      "text/html": [
       "<table>\n",
       "<caption>A data.frame: 6 × 10</caption>\n",
       "<thead>\n",
       "\t<tr><th></th><th scope=col>TYPE</th><th scope=col>YEAR</th><th scope=col>MONTH</th><th scope=col>DAY</th><th scope=col>HOUR</th><th scope=col>MINUTE</th><th scope=col>HUNDRED_BLOCK</th><th scope=col>NEIGHBOURHOOD</th><th scope=col>X</th><th scope=col>Y</th></tr>\n",
       "\t<tr><th></th><th scope=col>&lt;chr&gt;</th><th scope=col>&lt;int&gt;</th><th scope=col>&lt;int&gt;</th><th scope=col>&lt;int&gt;</th><th scope=col>&lt;int&gt;</th><th scope=col>&lt;int&gt;</th><th scope=col>&lt;chr&gt;</th><th scope=col>&lt;chr&gt;</th><th scope=col>&lt;dbl&gt;</th><th scope=col>&lt;dbl&gt;</th></tr>\n",
       "</thead>\n",
       "<tbody>\n",
       "\t<tr><th scope=row>1</th><td>Break and Enter Commercial</td><td>2012</td><td>12</td><td>14</td><td> 8</td><td>52</td><td>               </td><td>Oakridge</td><td>491285.0</td><td>5453433</td></tr>\n",
       "\t<tr><th scope=row>2</th><td>Break and Enter Commercial</td><td>2019</td><td> 3</td><td> 7</td><td> 2</td><td> 6</td><td>10XX SITKA SQ  </td><td>Fairview</td><td>490613.0</td><td>5457110</td></tr>\n",
       "\t<tr><th scope=row>3</th><td>Break and Enter Commercial</td><td>2019</td><td> 8</td><td>27</td><td> 4</td><td>12</td><td>10XX ALBERNI ST</td><td>West End</td><td>491007.8</td><td>5459174</td></tr>\n",
       "\t<tr><th scope=row>4</th><td>Break and Enter Commercial</td><td>2014</td><td> 8</td><td> 8</td><td> 5</td><td>13</td><td>10XX ALBERNI ST</td><td>West End</td><td>491015.9</td><td>5459166</td></tr>\n",
       "\t<tr><th scope=row>5</th><td>Break and Enter Commercial</td><td>2020</td><td> 7</td><td>28</td><td>19</td><td>12</td><td>10XX ALBERNI ST</td><td>West End</td><td>491015.9</td><td>5459166</td></tr>\n",
       "\t<tr><th scope=row>6</th><td>Break and Enter Commercial</td><td>2005</td><td>11</td><td>14</td><td> 3</td><td> 9</td><td>10XX ALBERNI ST</td><td>West End</td><td>491021.4</td><td>5459161</td></tr>\n",
       "</tbody>\n",
       "</table>\n"
      ],
      "text/latex": [
       "A data.frame: 6 × 10\n",
       "\\begin{tabular}{r|llllllllll}\n",
       "  & TYPE & YEAR & MONTH & DAY & HOUR & MINUTE & HUNDRED\\_BLOCK & NEIGHBOURHOOD & X & Y\\\\\n",
       "  & <chr> & <int> & <int> & <int> & <int> & <int> & <chr> & <chr> & <dbl> & <dbl>\\\\\n",
       "\\hline\n",
       "\t1 & Break and Enter Commercial & 2012 & 12 & 14 &  8 & 52 &                 & Oakridge & 491285.0 & 5453433\\\\\n",
       "\t2 & Break and Enter Commercial & 2019 &  3 &  7 &  2 &  6 & 10XX SITKA SQ   & Fairview & 490613.0 & 5457110\\\\\n",
       "\t3 & Break and Enter Commercial & 2019 &  8 & 27 &  4 & 12 & 10XX ALBERNI ST & West End & 491007.8 & 5459174\\\\\n",
       "\t4 & Break and Enter Commercial & 2014 &  8 &  8 &  5 & 13 & 10XX ALBERNI ST & West End & 491015.9 & 5459166\\\\\n",
       "\t5 & Break and Enter Commercial & 2020 &  7 & 28 & 19 & 12 & 10XX ALBERNI ST & West End & 491015.9 & 5459166\\\\\n",
       "\t6 & Break and Enter Commercial & 2005 & 11 & 14 &  3 &  9 & 10XX ALBERNI ST & West End & 491021.4 & 5459161\\\\\n",
       "\\end{tabular}\n"
      ],
      "text/markdown": [
       "\n",
       "A data.frame: 6 × 10\n",
       "\n",
       "| <!--/--> | TYPE &lt;chr&gt; | YEAR &lt;int&gt; | MONTH &lt;int&gt; | DAY &lt;int&gt; | HOUR &lt;int&gt; | MINUTE &lt;int&gt; | HUNDRED_BLOCK &lt;chr&gt; | NEIGHBOURHOOD &lt;chr&gt; | X &lt;dbl&gt; | Y &lt;dbl&gt; |\n",
       "|---|---|---|---|---|---|---|---|---|---|---|\n",
       "| 1 | Break and Enter Commercial | 2012 | 12 | 14 |  8 | 52 | <!----> | Oakridge | 491285.0 | 5453433 |\n",
       "| 2 | Break and Enter Commercial | 2019 |  3 |  7 |  2 |  6 | 10XX SITKA SQ   | Fairview | 490613.0 | 5457110 |\n",
       "| 3 | Break and Enter Commercial | 2019 |  8 | 27 |  4 | 12 | 10XX ALBERNI ST | West End | 491007.8 | 5459174 |\n",
       "| 4 | Break and Enter Commercial | 2014 |  8 |  8 |  5 | 13 | 10XX ALBERNI ST | West End | 491015.9 | 5459166 |\n",
       "| 5 | Break and Enter Commercial | 2020 |  7 | 28 | 19 | 12 | 10XX ALBERNI ST | West End | 491015.9 | 5459166 |\n",
       "| 6 | Break and Enter Commercial | 2005 | 11 | 14 |  3 |  9 | 10XX ALBERNI ST | West End | 491021.4 | 5459161 |\n",
       "\n"
      ],
      "text/plain": [
       "  TYPE                       YEAR MONTH DAY HOUR MINUTE HUNDRED_BLOCK  \n",
       "1 Break and Enter Commercial 2012 12    14   8   52                    \n",
       "2 Break and Enter Commercial 2019  3     7   2    6     10XX SITKA SQ  \n",
       "3 Break and Enter Commercial 2019  8    27   4   12     10XX ALBERNI ST\n",
       "4 Break and Enter Commercial 2014  8     8   5   13     10XX ALBERNI ST\n",
       "5 Break and Enter Commercial 2020  7    28  19   12     10XX ALBERNI ST\n",
       "6 Break and Enter Commercial 2005 11    14   3    9     10XX ALBERNI ST\n",
       "  NEIGHBOURHOOD X        Y      \n",
       "1 Oakridge      491285.0 5453433\n",
       "2 Fairview      490613.0 5457110\n",
       "3 West End      491007.8 5459174\n",
       "4 West End      491015.9 5459166\n",
       "5 West End      491015.9 5459166\n",
       "6 West End      491021.4 5459161"
      ]
     },
     "metadata": {},
     "output_type": "display_data"
    }
   ],
   "source": [
    "head(crime_data)"
   ]
  },
  {
   "cell_type": "markdown",
   "metadata": {},
   "source": [
    "* **Clean/Wrangle data**"
   ]
  },
  {
   "cell_type": "code",
   "execution_count": 40,
   "metadata": {},
   "outputs": [
    {
     "data": {
      "text/html": [
       "<table>\n",
       "<caption>A tibble: 6 × 2</caption>\n",
       "<thead>\n",
       "\t<tr><th scope=col>TYPE</th><th scope=col>HOUR</th></tr>\n",
       "\t<tr><th scope=col>&lt;chr&gt;</th><th scope=col>&lt;int&gt;</th></tr>\n",
       "</thead>\n",
       "<tbody>\n",
       "\t<tr><td>Homicide</td><td>0</td></tr>\n",
       "\t<tr><td>Homicide</td><td>0</td></tr>\n",
       "\t<tr><td>Homicide</td><td>0</td></tr>\n",
       "\t<tr><td>Homicide</td><td>0</td></tr>\n",
       "\t<tr><td>Homicide</td><td>0</td></tr>\n",
       "\t<tr><td>Homicide</td><td>0</td></tr>\n",
       "</tbody>\n",
       "</table>\n"
      ],
      "text/latex": [
       "A tibble: 6 × 2\n",
       "\\begin{tabular}{ll}\n",
       " TYPE & HOUR\\\\\n",
       " <chr> & <int>\\\\\n",
       "\\hline\n",
       "\t Homicide & 0\\\\\n",
       "\t Homicide & 0\\\\\n",
       "\t Homicide & 0\\\\\n",
       "\t Homicide & 0\\\\\n",
       "\t Homicide & 0\\\\\n",
       "\t Homicide & 0\\\\\n",
       "\\end{tabular}\n"
      ],
      "text/markdown": [
       "\n",
       "A tibble: 6 × 2\n",
       "\n",
       "| TYPE &lt;chr&gt; | HOUR &lt;int&gt; |\n",
       "|---|---|\n",
       "| Homicide | 0 |\n",
       "| Homicide | 0 |\n",
       "| Homicide | 0 |\n",
       "| Homicide | 0 |\n",
       "| Homicide | 0 |\n",
       "| Homicide | 0 |\n",
       "\n"
      ],
      "text/plain": [
       "  TYPE     HOUR\n",
       "1 Homicide 0   \n",
       "2 Homicide 0   \n",
       "3 Homicide 0   \n",
       "4 Homicide 0   \n",
       "5 Homicide 0   \n",
       "6 Homicide 0   "
      ]
     },
     "metadata": {},
     "output_type": "display_data"
    },
    {
     "data": {
      "text/html": [
       "<table>\n",
       "<caption>A tibble: 6 × 2</caption>\n",
       "<thead>\n",
       "\t<tr><th scope=col>TYPE</th><th scope=col>HOUR</th></tr>\n",
       "\t<tr><th scope=col>&lt;chr&gt;</th><th scope=col>&lt;int&gt;</th></tr>\n",
       "</thead>\n",
       "<tbody>\n",
       "\t<tr><td>Vehicle Collision or Pedestrian Struck (with Injury)</td><td>23</td></tr>\n",
       "\t<tr><td>Vehicle Collision or Pedestrian Struck (with Injury)</td><td>23</td></tr>\n",
       "\t<tr><td>Vehicle Collision or Pedestrian Struck (with Injury)</td><td>23</td></tr>\n",
       "\t<tr><td>Vehicle Collision or Pedestrian Struck (with Injury)</td><td>23</td></tr>\n",
       "\t<tr><td>Vehicle Collision or Pedestrian Struck (with Injury)</td><td>23</td></tr>\n",
       "\t<tr><td>Vehicle Collision or Pedestrian Struck (with Injury)</td><td>23</td></tr>\n",
       "</tbody>\n",
       "</table>\n"
      ],
      "text/latex": [
       "A tibble: 6 × 2\n",
       "\\begin{tabular}{ll}\n",
       " TYPE & HOUR\\\\\n",
       " <chr> & <int>\\\\\n",
       "\\hline\n",
       "\t Vehicle Collision or Pedestrian Struck (with Injury) & 23\\\\\n",
       "\t Vehicle Collision or Pedestrian Struck (with Injury) & 23\\\\\n",
       "\t Vehicle Collision or Pedestrian Struck (with Injury) & 23\\\\\n",
       "\t Vehicle Collision or Pedestrian Struck (with Injury) & 23\\\\\n",
       "\t Vehicle Collision or Pedestrian Struck (with Injury) & 23\\\\\n",
       "\t Vehicle Collision or Pedestrian Struck (with Injury) & 23\\\\\n",
       "\\end{tabular}\n"
      ],
      "text/markdown": [
       "\n",
       "A tibble: 6 × 2\n",
       "\n",
       "| TYPE &lt;chr&gt; | HOUR &lt;int&gt; |\n",
       "|---|---|\n",
       "| Vehicle Collision or Pedestrian Struck (with Injury) | 23 |\n",
       "| Vehicle Collision or Pedestrian Struck (with Injury) | 23 |\n",
       "| Vehicle Collision or Pedestrian Struck (with Injury) | 23 |\n",
       "| Vehicle Collision or Pedestrian Struck (with Injury) | 23 |\n",
       "| Vehicle Collision or Pedestrian Struck (with Injury) | 23 |\n",
       "| Vehicle Collision or Pedestrian Struck (with Injury) | 23 |\n",
       "\n"
      ],
      "text/plain": [
       "  TYPE                                                 HOUR\n",
       "1 Vehicle Collision or Pedestrian Struck (with Injury) 23  \n",
       "2 Vehicle Collision or Pedestrian Struck (with Injury) 23  \n",
       "3 Vehicle Collision or Pedestrian Struck (with Injury) 23  \n",
       "4 Vehicle Collision or Pedestrian Struck (with Injury) 23  \n",
       "5 Vehicle Collision or Pedestrian Struck (with Injury) 23  \n",
       "6 Vehicle Collision or Pedestrian Struck (with Injury) 23  "
      ]
     },
     "metadata": {},
     "output_type": "display_data"
    },
    {
     "name": "stderr",
     "output_type": "stream",
     "text": [
      "`summarise()` ungrouping output (override with `.groups` argument)\n",
      "\n"
     ]
    },
    {
     "data": {
      "text/html": [
       "<table>\n",
       "<caption>A tibble: 4 × 2</caption>\n",
       "<thead>\n",
       "\t<tr><th scope=col>TYPE</th><th scope=col>count</th></tr>\n",
       "\t<tr><th scope=col>&lt;chr&gt;</th><th scope=col>&lt;int&gt;</th></tr>\n",
       "</thead>\n",
       "<tbody>\n",
       "\t<tr><td>Homicide                                              </td><td>  274</td></tr>\n",
       "\t<tr><td>Offence Against a Person                              </td><td>66682</td></tr>\n",
       "\t<tr><td>Vehicle Collision or Pedestrian Struck (with Fatality)</td><td>  301</td></tr>\n",
       "\t<tr><td>Vehicle Collision or Pedestrian Struck (with Injury)  </td><td>26457</td></tr>\n",
       "</tbody>\n",
       "</table>\n"
      ],
      "text/latex": [
       "A tibble: 4 × 2\n",
       "\\begin{tabular}{ll}\n",
       " TYPE & count\\\\\n",
       " <chr> & <int>\\\\\n",
       "\\hline\n",
       "\t Homicide                                               &   274\\\\\n",
       "\t Offence Against a Person                               & 66682\\\\\n",
       "\t Vehicle Collision or Pedestrian Struck (with Fatality) &   301\\\\\n",
       "\t Vehicle Collision or Pedestrian Struck (with Injury)   & 26457\\\\\n",
       "\\end{tabular}\n"
      ],
      "text/markdown": [
       "\n",
       "A tibble: 4 × 2\n",
       "\n",
       "| TYPE &lt;chr&gt; | count &lt;int&gt; |\n",
       "|---|---|\n",
       "| Homicide                                               |   274 |\n",
       "| Offence Against a Person                               | 66682 |\n",
       "| Vehicle Collision or Pedestrian Struck (with Fatality) |   301 |\n",
       "| Vehicle Collision or Pedestrian Struck (with Injury)   | 26457 |\n",
       "\n"
      ],
      "text/plain": [
       "  TYPE                                                   count\n",
       "1 Homicide                                                 274\n",
       "2 Offence Against a Person                               66682\n",
       "3 Vehicle Collision or Pedestrian Struck (with Fatality)   301\n",
       "4 Vehicle Collision or Pedestrian Struck (with Injury)   26457"
      ]
     },
     "metadata": {},
     "output_type": "display_data"
    }
   ],
   "source": [
    "crime_data_grouped <- crime_data %>%\n",
    "            group_by(TYPE) %>%\n",
    "            select(TYPE, HOUR) %>%\n",
    "            data.frame()\n",
    "\n",
    "\n",
    "crime_data_sort <- crime_data_grouped[ order( crime_data_grouped$HOUR), ] %>%\n",
    "                select(TYPE, HOUR)%>%\n",
    "                as.tibble()%>%\n",
    "                filter(TYPE == \"Vehicle Collision or Pedestrian Struck (with Injury)\" | \n",
    "                       TYPE == \"Vehicle Collision or Pedestrian Struck (with Fatality)\"|\n",
    "                       TYPE == \"Homicide\" | \n",
    "                       TYPE == \"Offence Against a Person\")\n",
    "head(crime_data_sort)\n",
    "tail(crime_data_sort)\n",
    "cd_count <- crime_data_sort %>%\n",
    "            group_by(TYPE) %>%\n",
    "            summarize(count=n())\n",
    "cd_count"
   ]
  },
  {
   "cell_type": "markdown",
   "metadata": {},
   "source": [
    "* **Conduct Hypothesis test** "
   ]
  },
  {
   "cell_type": "markdown",
   "metadata": {},
   "source": [
    " * Null Hypothesis: vehicle collision or pedestrian struck with fatality occurs is the same as that with injury.\n",
    " * Alternative Hypothesis: vehicle collision or pedestrian struck with fatality occurs later than just that with injury"
   ]
  },
  {
   "cell_type": "code",
   "execution_count": 41,
   "metadata": {},
   "outputs": [
    {
     "data": {
      "text/html": [
       "<table>\n",
       "<caption>A tibble: 6 × 2</caption>\n",
       "<thead>\n",
       "\t<tr><th scope=col>TYPE</th><th scope=col>HOUR</th></tr>\n",
       "\t<tr><th scope=col>&lt;chr&gt;</th><th scope=col>&lt;int&gt;</th></tr>\n",
       "</thead>\n",
       "<tbody>\n",
       "\t<tr><td>Vehicle Collision or Pedestrian Struck (with Fatality)</td><td>0</td></tr>\n",
       "\t<tr><td>Vehicle Collision or Pedestrian Struck (with Fatality)</td><td>0</td></tr>\n",
       "\t<tr><td>Vehicle Collision or Pedestrian Struck (with Fatality)</td><td>0</td></tr>\n",
       "\t<tr><td>Vehicle Collision or Pedestrian Struck (with Fatality)</td><td>0</td></tr>\n",
       "\t<tr><td>Vehicle Collision or Pedestrian Struck (with Fatality)</td><td>0</td></tr>\n",
       "\t<tr><td>Vehicle Collision or Pedestrian Struck (with Fatality)</td><td>0</td></tr>\n",
       "</tbody>\n",
       "</table>\n"
      ],
      "text/latex": [
       "A tibble: 6 × 2\n",
       "\\begin{tabular}{ll}\n",
       " TYPE & HOUR\\\\\n",
       " <chr> & <int>\\\\\n",
       "\\hline\n",
       "\t Vehicle Collision or Pedestrian Struck (with Fatality) & 0\\\\\n",
       "\t Vehicle Collision or Pedestrian Struck (with Fatality) & 0\\\\\n",
       "\t Vehicle Collision or Pedestrian Struck (with Fatality) & 0\\\\\n",
       "\t Vehicle Collision or Pedestrian Struck (with Fatality) & 0\\\\\n",
       "\t Vehicle Collision or Pedestrian Struck (with Fatality) & 0\\\\\n",
       "\t Vehicle Collision or Pedestrian Struck (with Fatality) & 0\\\\\n",
       "\\end{tabular}\n"
      ],
      "text/markdown": [
       "\n",
       "A tibble: 6 × 2\n",
       "\n",
       "| TYPE &lt;chr&gt; | HOUR &lt;int&gt; |\n",
       "|---|---|\n",
       "| Vehicle Collision or Pedestrian Struck (with Fatality) | 0 |\n",
       "| Vehicle Collision or Pedestrian Struck (with Fatality) | 0 |\n",
       "| Vehicle Collision or Pedestrian Struck (with Fatality) | 0 |\n",
       "| Vehicle Collision or Pedestrian Struck (with Fatality) | 0 |\n",
       "| Vehicle Collision or Pedestrian Struck (with Fatality) | 0 |\n",
       "| Vehicle Collision or Pedestrian Struck (with Fatality) | 0 |\n",
       "\n"
      ],
      "text/plain": [
       "  TYPE                                                   HOUR\n",
       "1 Vehicle Collision or Pedestrian Struck (with Fatality) 0   \n",
       "2 Vehicle Collision or Pedestrian Struck (with Fatality) 0   \n",
       "3 Vehicle Collision or Pedestrian Struck (with Fatality) 0   \n",
       "4 Vehicle Collision or Pedestrian Struck (with Fatality) 0   \n",
       "5 Vehicle Collision or Pedestrian Struck (with Fatality) 0   \n",
       "6 Vehicle Collision or Pedestrian Struck (with Fatality) 0   "
      ]
     },
     "metadata": {},
     "output_type": "display_data"
    }
   ],
   "source": [
    "data_fatality_injury <- crime_data_sort %>%\n",
    "                filter(TYPE == \"Vehicle Collision or Pedestrian Struck (with Fatality)\"|\n",
    "                      TYPE == \"Vehicle Collision or Pedestrian Struck (with Injury)\")\n",
    "head(data_fatality_injury)"
   ]
  },
  {
   "cell_type": "markdown",
   "metadata": {},
   "source": [
    "Here, since we can't simply calculate mean/median of \"time\" to judge whether an event happens later(e.p, an event happens at 1am is \"later\" than an event happens at 11pm, but an event happens at 3pm is later than an event happens at 2pm). Therefore, we use the proportion of events happen at night(between 6pm the day before and 6am) to make judgement."
   ]
  },
  {
   "cell_type": "code",
   "execution_count": 42,
   "metadata": {},
   "outputs": [
    {
     "data": {
      "text/html": [
       "<table>\n",
       "<caption>A tibble: 6 × 3</caption>\n",
       "<thead>\n",
       "\t<tr><th scope=col>TYPE</th><th scope=col>HOUR</th><th scope=col>nighttime</th></tr>\n",
       "\t<tr><th scope=col>&lt;list&gt;</th><th scope=col>&lt;int&gt;</th><th scope=col>&lt;list&gt;</th></tr>\n",
       "</thead>\n",
       "<tbody>\n",
       "\t<tr><td>Fatality</td><td>0</td><td>night</td></tr>\n",
       "\t<tr><td>Fatality</td><td>0</td><td>night</td></tr>\n",
       "\t<tr><td>Fatality</td><td>0</td><td>night</td></tr>\n",
       "\t<tr><td>Fatality</td><td>0</td><td>night</td></tr>\n",
       "\t<tr><td>Fatality</td><td>0</td><td>night</td></tr>\n",
       "\t<tr><td>Fatality</td><td>0</td><td>night</td></tr>\n",
       "</tbody>\n",
       "</table>\n"
      ],
      "text/latex": [
       "A tibble: 6 × 3\n",
       "\\begin{tabular}{lll}\n",
       " TYPE & HOUR & nighttime\\\\\n",
       " <list> & <int> & <list>\\\\\n",
       "\\hline\n",
       "\t Fatality & 0 & night\\\\\n",
       "\t Fatality & 0 & night\\\\\n",
       "\t Fatality & 0 & night\\\\\n",
       "\t Fatality & 0 & night\\\\\n",
       "\t Fatality & 0 & night\\\\\n",
       "\t Fatality & 0 & night\\\\\n",
       "\\end{tabular}\n"
      ],
      "text/markdown": [
       "\n",
       "A tibble: 6 × 3\n",
       "\n",
       "| TYPE &lt;list&gt; | HOUR &lt;int&gt; | nighttime &lt;list&gt; |\n",
       "|---|---|---|\n",
       "| Fatality | 0 | night |\n",
       "| Fatality | 0 | night |\n",
       "| Fatality | 0 | night |\n",
       "| Fatality | 0 | night |\n",
       "| Fatality | 0 | night |\n",
       "| Fatality | 0 | night |\n",
       "\n"
      ],
      "text/plain": [
       "  TYPE     HOUR nighttime\n",
       "1 Fatality 0    night    \n",
       "2 Fatality 0    night    \n",
       "3 Fatality 0    night    \n",
       "4 Fatality 0    night    \n",
       "5 Fatality 0    night    \n",
       "6 Fatality 0    night    "
      ]
     },
     "metadata": {},
     "output_type": "display_data"
    },
    {
     "data": {
      "text/html": [
       "<table>\n",
       "<caption>A tibble: 6 × 3</caption>\n",
       "<thead>\n",
       "\t<tr><th scope=col>TYPE</th><th scope=col>HOUR</th><th scope=col>nighttime</th></tr>\n",
       "\t<tr><th scope=col>&lt;list&gt;</th><th scope=col>&lt;int&gt;</th><th scope=col>&lt;list&gt;</th></tr>\n",
       "</thead>\n",
       "<tbody>\n",
       "\t<tr><td>Injury</td><td>23</td><td>night</td></tr>\n",
       "\t<tr><td>Injury</td><td>23</td><td>night</td></tr>\n",
       "\t<tr><td>Injury</td><td>23</td><td>night</td></tr>\n",
       "\t<tr><td>Injury</td><td>23</td><td>night</td></tr>\n",
       "\t<tr><td>Injury</td><td>23</td><td>night</td></tr>\n",
       "\t<tr><td>Injury</td><td>23</td><td>night</td></tr>\n",
       "</tbody>\n",
       "</table>\n"
      ],
      "text/latex": [
       "A tibble: 6 × 3\n",
       "\\begin{tabular}{lll}\n",
       " TYPE & HOUR & nighttime\\\\\n",
       " <list> & <int> & <list>\\\\\n",
       "\\hline\n",
       "\t Injury & 23 & night\\\\\n",
       "\t Injury & 23 & night\\\\\n",
       "\t Injury & 23 & night\\\\\n",
       "\t Injury & 23 & night\\\\\n",
       "\t Injury & 23 & night\\\\\n",
       "\t Injury & 23 & night\\\\\n",
       "\\end{tabular}\n"
      ],
      "text/markdown": [
       "\n",
       "A tibble: 6 × 3\n",
       "\n",
       "| TYPE &lt;list&gt; | HOUR &lt;int&gt; | nighttime &lt;list&gt; |\n",
       "|---|---|---|\n",
       "| Injury | 23 | night |\n",
       "| Injury | 23 | night |\n",
       "| Injury | 23 | night |\n",
       "| Injury | 23 | night |\n",
       "| Injury | 23 | night |\n",
       "| Injury | 23 | night |\n",
       "\n"
      ],
      "text/plain": [
       "  TYPE   HOUR nighttime\n",
       "1 Injury 23   night    \n",
       "2 Injury 23   night    \n",
       "3 Injury 23   night    \n",
       "4 Injury 23   night    \n",
       "5 Injury 23   night    \n",
       "6 Injury 23   night    "
      ]
     },
     "metadata": {},
     "output_type": "display_data"
    }
   ],
   "source": [
    "re_type <- function(a) {\n",
    "    if (a == \"Vehicle Collision or Pedestrian Struck (with Fatality)\"){\n",
    "         a <- \"Fatality\"\n",
    "    }else{\n",
    "          a <- \"Injury\"\n",
    "    } \n",
    "}\n",
    "re_night <- function(a) {\n",
    "    if (a){\n",
    "         a <- \"night\"\n",
    "    }else{\n",
    "          a <- \"not_night\"\n",
    "    } \n",
    "}\n",
    "\n",
    "data_fatality_injury <- data_fatality_injury %>%\n",
    "                        mutate(nighttime = (0 <= HOUR & HOUR <= 6|18 <= HOUR & HOUR <= 23))\n",
    "data_fatality_injury$TYPE <- lapply(data_fatality_injury$TYPE, re_type)\n",
    "data_fatality_injury$nighttime <- lapply(data_fatality_injury$nighttime, re_night)\n",
    "head(data_fatality_injury)\n",
    "tail(data_fatality_injury)\n"
   ]
  },
  {
   "cell_type": "code",
   "execution_count": 43,
   "metadata": {},
   "outputs": [
    {
     "data": {
      "text/html": [
       "<table>\n",
       "<caption>A tibble: 2 × 3</caption>\n",
       "<thead>\n",
       "\t<tr><th scope=col>nighttime</th><th scope=col>Fatality</th><th scope=col>Injury</th></tr>\n",
       "\t<tr><th scope=col>&lt;list&gt;</th><th scope=col>&lt;int&gt;</th><th scope=col>&lt;int&gt;</th></tr>\n",
       "</thead>\n",
       "<tbody>\n",
       "\t<tr><td>night</td><td>143</td><td>10212</td></tr>\n",
       "\t<tr><td>not_night</td><td>158</td><td>16245</td></tr>\n",
       "</tbody>\n",
       "</table>\n"
      ],
      "text/latex": [
       "A tibble: 2 × 3\n",
       "\\begin{tabular}{lll}\n",
       " nighttime & Fatality & Injury\\\\\n",
       " <list> & <int> & <int>\\\\\n",
       "\\hline\n",
       "\t night & 143 & 10212\\\\\n",
       "\t not\\_night & 158 & 16245\\\\\n",
       "\\end{tabular}\n"
      ],
      "text/markdown": [
       "\n",
       "A tibble: 2 × 3\n",
       "\n",
       "| nighttime &lt;list&gt; | Fatality &lt;int&gt; | Injury &lt;int&gt; |\n",
       "|---|---|---|\n",
       "| night | 143 | 10212 |\n",
       "| not_night | 158 | 16245 |\n",
       "\n"
      ],
      "text/plain": [
       "  nighttime Fatality Injury\n",
       "1 night     143      10212 \n",
       "2 not_night 158      16245 "
      ]
     },
     "metadata": {},
     "output_type": "display_data"
    }
   ],
   "source": [
    "data_fatality_injury %>%\n",
    "    group_by(TYPE, nighttime) %>%\n",
    "    tally() %>%\n",
    "    spread(TYPE, n)"
   ]
  },
  {
   "cell_type": "markdown",
   "metadata": {},
   "source": [
    "Let  𝑝1  be the proportion of Vehicle Collision or Pedestrian Struck (with Fatality)) that happen at night, and let  𝑝2  be the proportion of Vehicle Collision or Pedestrian Struck (with Injury) that happen at night."
   ]
  },
  {
   "cell_type": "code",
   "execution_count": 45,
   "metadata": {},
   "outputs": [
    {
     "data": {
      "text/html": [
       "<table>\n",
       "<caption>A tibble: 1 × 5</caption>\n",
       "<thead>\n",
       "\t<tr><th scope=col>n_Fatality</th><th scope=col>n_Injury</th><th scope=col>p_hat_Fatality</th><th scope=col>p_hat_Injury</th><th scope=col>prop_diff</th></tr>\n",
       "\t<tr><th scope=col>&lt;int&gt;</th><th scope=col>&lt;int&gt;</th><th scope=col>&lt;dbl&gt;</th><th scope=col>&lt;dbl&gt;</th><th scope=col>&lt;dbl&gt;</th></tr>\n",
       "</thead>\n",
       "<tbody>\n",
       "\t<tr><td>301</td><td>26457</td><td>0.4750831</td><td>0.3859848</td><td>0.08909825</td></tr>\n",
       "</tbody>\n",
       "</table>\n"
      ],
      "text/latex": [
       "A tibble: 1 × 5\n",
       "\\begin{tabular}{lllll}\n",
       " n\\_Fatality & n\\_Injury & p\\_hat\\_Fatality & p\\_hat\\_Injury & prop\\_diff\\\\\n",
       " <int> & <int> & <dbl> & <dbl> & <dbl>\\\\\n",
       "\\hline\n",
       "\t 301 & 26457 & 0.4750831 & 0.3859848 & 0.08909825\\\\\n",
       "\\end{tabular}\n"
      ],
      "text/markdown": [
       "\n",
       "A tibble: 1 × 5\n",
       "\n",
       "| n_Fatality &lt;int&gt; | n_Injury &lt;int&gt; | p_hat_Fatality &lt;dbl&gt; | p_hat_Injury &lt;dbl&gt; | prop_diff &lt;dbl&gt; |\n",
       "|---|---|---|---|---|\n",
       "| 301 | 26457 | 0.4750831 | 0.3859848 | 0.08909825 |\n",
       "\n"
      ],
      "text/plain": [
       "  n_Fatality n_Injury p_hat_Fatality p_hat_Injury prop_diff \n",
       "1 301        26457    0.4750831      0.3859848    0.08909825"
      ]
     },
     "metadata": {},
     "output_type": "display_data"
    }
   ],
   "source": [
    "crime_summary <-\n",
    "    data_fatality_injury %>% \n",
    "    group_by(TYPE) %>% \n",
    "    summarise(n = n(), p_hat = mean(nighttime==\"night\"), `.groups` = \"drop\") %>% \n",
    "    pivot_wider(names_from = TYPE, values_from = c(n, p_hat)) %>% \n",
    "    mutate(prop_diff = p_hat_Fatality-p_hat_Injury)\n",
    "crime_summary"
   ]
  },
  {
   "cell_type": "code",
   "execution_count": 46,
   "metadata": {},
   "outputs": [
    {
     "data": {
      "text/html": [
       "<table>\n",
       "<caption>A tibble: 1 × 7</caption>\n",
       "<thead>\n",
       "\t<tr><th scope=col>n_Fatality</th><th scope=col>n_Injury</th><th scope=col>p_hat_Fatality</th><th scope=col>p_hat_Injury</th><th scope=col>prop_diff</th><th scope=col>null_std_error</th><th scope=col>p_value</th></tr>\n",
       "\t<tr><th scope=col>&lt;int&gt;</th><th scope=col>&lt;int&gt;</th><th scope=col>&lt;dbl&gt;</th><th scope=col>&lt;dbl&gt;</th><th scope=col>&lt;dbl&gt;</th><th scope=col>&lt;dbl&gt;</th><th scope=col>&lt;dbl&gt;</th></tr>\n",
       "</thead>\n",
       "<tbody>\n",
       "\t<tr><td>301</td><td>26457</td><td>0.4750831</td><td>0.3859848</td><td>0.08909825</td><td>0.02823295</td><td>0.0008002254</td></tr>\n",
       "</tbody>\n",
       "</table>\n"
      ],
      "text/latex": [
       "A tibble: 1 × 7\n",
       "\\begin{tabular}{lllllll}\n",
       " n\\_Fatality & n\\_Injury & p\\_hat\\_Fatality & p\\_hat\\_Injury & prop\\_diff & null\\_std\\_error & p\\_value\\\\\n",
       " <int> & <int> & <dbl> & <dbl> & <dbl> & <dbl> & <dbl>\\\\\n",
       "\\hline\n",
       "\t 301 & 26457 & 0.4750831 & 0.3859848 & 0.08909825 & 0.02823295 & 0.0008002254\\\\\n",
       "\\end{tabular}\n"
      ],
      "text/markdown": [
       "\n",
       "A tibble: 1 × 7\n",
       "\n",
       "| n_Fatality &lt;int&gt; | n_Injury &lt;int&gt; | p_hat_Fatality &lt;dbl&gt; | p_hat_Injury &lt;dbl&gt; | prop_diff &lt;dbl&gt; | null_std_error &lt;dbl&gt; | p_value &lt;dbl&gt; |\n",
       "|---|---|---|---|---|---|---|\n",
       "| 301 | 26457 | 0.4750831 | 0.3859848 | 0.08909825 | 0.02823295 | 0.0008002254 |\n",
       "\n"
      ],
      "text/plain": [
       "  n_Fatality n_Injury p_hat_Fatality p_hat_Injury prop_diff  null_std_error\n",
       "1 301        26457    0.4750831      0.3859848    0.08909825 0.02823295    \n",
       "  p_value     \n",
       "1 0.0008002254"
      ]
     },
     "metadata": {},
     "output_type": "display_data"
    }
   ],
   "source": [
    "crime_summary <-\n",
    "    crime_summary %>% \n",
    "    mutate(p = (p_hat_Fatality * n_Fatality + p_hat_Injury * n_Injury)/(n_Injury+n_Fatality),\n",
    "           null_std_error = sqrt(p*(1-p)*(1/n_Fatality+1/n_Injury))) %>% \n",
    "    mutate(p_value = pnorm(prop_diff, 0, null_std_error, lower.tail=FALSE))%>%\n",
    "    select(-p)\n",
    "crime_summary"
   ]
  },
  {
   "cell_type": "markdown",
   "metadata": {},
   "source": [
    "Now that we have a data summary prepared for a test. We have two options: 1. Use Permutation and CLT to estimate the difference between two independent proportions; 2. Use non-parametric test(2 sample Z test) to estimate the difference. \n",
    "\n",
    "Now we consider about option2(The reason why we in favor of option2 is that we do not have to assume any Symmetry of the distribution of our sample. And also, they actually lead to the same conclusion)."
   ]
  },
  {
   "cell_type": "code",
   "execution_count": 27,
   "metadata": {},
   "outputs": [
    {
     "data": {
      "text/html": [
       "<table>\n",
       "<caption>A tibble: 1 × 9</caption>\n",
       "<thead>\n",
       "\t<tr><th scope=col>estimate1</th><th scope=col>estimate2</th><th scope=col>statistic</th><th scope=col>p.value</th><th scope=col>parameter</th><th scope=col>conf.low</th><th scope=col>conf.high</th><th scope=col>method</th><th scope=col>alternative</th></tr>\n",
       "\t<tr><th scope=col>&lt;dbl&gt;</th><th scope=col>&lt;dbl&gt;</th><th scope=col>&lt;dbl&gt;</th><th scope=col>&lt;dbl&gt;</th><th scope=col>&lt;dbl&gt;</th><th scope=col>&lt;dbl&gt;</th><th scope=col>&lt;dbl&gt;</th><th scope=col>&lt;chr&gt;</th><th scope=col>&lt;chr&gt;</th></tr>\n",
       "</thead>\n",
       "<tbody>\n",
       "\t<tr><td>0.4750831</td><td>0.3859848</td><td>9.959229</td><td>0.0008002254</td><td>1</td><td>0.04149799</td><td>1</td><td>2-sample test for equality of proportions without continuity correction</td><td>greater</td></tr>\n",
       "</tbody>\n",
       "</table>\n"
      ],
      "text/latex": [
       "A tibble: 1 × 9\n",
       "\\begin{tabular}{lllllllll}\n",
       " estimate1 & estimate2 & statistic & p.value & parameter & conf.low & conf.high & method & alternative\\\\\n",
       " <dbl> & <dbl> & <dbl> & <dbl> & <dbl> & <dbl> & <dbl> & <chr> & <chr>\\\\\n",
       "\\hline\n",
       "\t 0.4750831 & 0.3859848 & 9.959229 & 0.0008002254 & 1 & 0.04149799 & 1 & 2-sample test for equality of proportions without continuity correction & greater\\\\\n",
       "\\end{tabular}\n"
      ],
      "text/markdown": [
       "\n",
       "A tibble: 1 × 9\n",
       "\n",
       "| estimate1 &lt;dbl&gt; | estimate2 &lt;dbl&gt; | statistic &lt;dbl&gt; | p.value &lt;dbl&gt; | parameter &lt;dbl&gt; | conf.low &lt;dbl&gt; | conf.high &lt;dbl&gt; | method &lt;chr&gt; | alternative &lt;chr&gt; |\n",
       "|---|---|---|---|---|---|---|---|---|\n",
       "| 0.4750831 | 0.3859848 | 9.959229 | 0.0008002254 | 1 | 0.04149799 | 1 | 2-sample test for equality of proportions without continuity correction | greater |\n",
       "\n"
      ],
      "text/plain": [
       "  estimate1 estimate2 statistic p.value      parameter conf.low   conf.high\n",
       "1 0.4750831 0.3859848 9.959229  0.0008002254 1         0.04149799 1        \n",
       "  method                                                                 \n",
       "1 2-sample test for equality of proportions without continuity correction\n",
       "  alternative\n",
       "1 greater    "
      ]
     },
     "metadata": {},
     "output_type": "display_data"
    }
   ],
   "source": [
    "## option2\n",
    "crime_prop_test <- \n",
    "    tidy(prop.test(x = c(crime_summary %>% mutate(success = n_Fatality * p_hat_Fatality) %>% pull(success),\n",
    "                    crime_summary %>% mutate(success = n_Injury * p_hat_Injury) %>% pull(success)),\n",
    "              n = c(crime_summary$n_Fatality, crime_summary$n_Injury),\n",
    "                   alternative = \"greater\",\n",
    "             correct=FALSE))\n",
    "\n",
    "crime_prop_test\n"
   ]
  },
  {
   "cell_type": "markdown",
   "metadata": {},
   "source": [
    "* Conclusion\n",
    "\n",
    "Since one-tailed test, we use significance level 0.1 here. Because p.value is 0.0008 < 0.1, we have sufficient evidence to reject the null hypothesis in favor of alternative hypothesis. And this is exactly what we expect in our proposal."
   ]
  }
 ],
 "metadata": {
  "kernelspec": {
   "display_name": "R",
   "language": "R",
   "name": "ir"
  },
  "language_info": {
   "codemirror_mode": "r",
   "file_extension": ".r",
   "mimetype": "text/x-r-source",
   "name": "R",
   "pygments_lexer": "r",
   "version": "4.0.0"
  }
 },
 "nbformat": 4,
 "nbformat_minor": 4
}
