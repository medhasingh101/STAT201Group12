{
 "cells": [
  {
   "cell_type": "code",
   "execution_count": 63,
   "metadata": {},
   "outputs": [],
   "source": [
    "library(tidyverse)\n",
    "library(repr)\n",
    "library(datateachr)\n",
    "library(digest)\n",
    "library(infer)\n",
    "library(gridExtra)\n",
    "library(cowplot)\n",
    "library(caret)"
   ]
  },
  {
   "cell_type": "code",
   "execution_count": 64,
   "metadata": {},
   "outputs": [
    {
     "name": "stderr",
     "output_type": "stream",
     "text": [
      "Parsed with column specification:\n",
      "cols(\n",
      "  TYPE = \u001b[31mcol_character()\u001b[39m,\n",
      "  YEAR = \u001b[32mcol_double()\u001b[39m,\n",
      "  MONTH = \u001b[32mcol_double()\u001b[39m,\n",
      "  DAY = \u001b[32mcol_double()\u001b[39m,\n",
      "  HOUR = \u001b[32mcol_double()\u001b[39m,\n",
      "  MINUTE = \u001b[32mcol_double()\u001b[39m,\n",
      "  HUNDRED_BLOCK = \u001b[31mcol_character()\u001b[39m,\n",
      "  NEIGHBOURHOOD = \u001b[31mcol_character()\u001b[39m,\n",
      "  X = \u001b[32mcol_double()\u001b[39m,\n",
      "  Y = \u001b[32mcol_double()\u001b[39m\n",
      ")\n",
      "\n"
     ]
    }
   ],
   "source": [
    "crime_data <- read_csv(\"/home/jupyter/crimedata_csv_all_years.csv\")"
   ]
  },
  {
   "cell_type": "code",
   "execution_count": 65,
   "metadata": {},
   "outputs": [
    {
     "data": {
      "text/html": [
       "<table>\n",
       "<caption>A tibble: 6 × 10</caption>\n",
       "<thead>\n",
       "\t<tr><th scope=col>TYPE</th><th scope=col>YEAR</th><th scope=col>MONTH</th><th scope=col>DAY</th><th scope=col>HOUR</th><th scope=col>MINUTE</th><th scope=col>HUNDRED_BLOCK</th><th scope=col>NEIGHBOURHOOD</th><th scope=col>X</th><th scope=col>Y</th></tr>\n",
       "\t<tr><th scope=col>&lt;chr&gt;</th><th scope=col>&lt;dbl&gt;</th><th scope=col>&lt;dbl&gt;</th><th scope=col>&lt;dbl&gt;</th><th scope=col>&lt;dbl&gt;</th><th scope=col>&lt;dbl&gt;</th><th scope=col>&lt;chr&gt;</th><th scope=col>&lt;chr&gt;</th><th scope=col>&lt;dbl&gt;</th><th scope=col>&lt;dbl&gt;</th></tr>\n",
       "</thead>\n",
       "<tbody>\n",
       "\t<tr><td>Break and Enter Commercial</td><td>2012</td><td>12</td><td>14</td><td> 8</td><td>52</td><td>NA             </td><td>Oakridge</td><td>491285.0</td><td>5453433</td></tr>\n",
       "\t<tr><td>Break and Enter Commercial</td><td>2019</td><td> 3</td><td> 7</td><td> 2</td><td> 6</td><td>10XX SITKA SQ  </td><td>Fairview</td><td>490613.0</td><td>5457110</td></tr>\n",
       "\t<tr><td>Break and Enter Commercial</td><td>2019</td><td> 8</td><td>27</td><td> 4</td><td>12</td><td>10XX ALBERNI ST</td><td>West End</td><td>491007.8</td><td>5459174</td></tr>\n",
       "\t<tr><td>Break and Enter Commercial</td><td>2014</td><td> 8</td><td> 8</td><td> 5</td><td>13</td><td>10XX ALBERNI ST</td><td>West End</td><td>491015.9</td><td>5459166</td></tr>\n",
       "\t<tr><td>Break and Enter Commercial</td><td>2020</td><td> 7</td><td>28</td><td>19</td><td>12</td><td>10XX ALBERNI ST</td><td>West End</td><td>491015.9</td><td>5459166</td></tr>\n",
       "\t<tr><td>Break and Enter Commercial</td><td>2005</td><td>11</td><td>14</td><td> 3</td><td> 9</td><td>10XX ALBERNI ST</td><td>West End</td><td>491021.4</td><td>5459161</td></tr>\n",
       "</tbody>\n",
       "</table>\n"
      ],
      "text/latex": [
       "A tibble: 6 × 10\n",
       "\\begin{tabular}{llllllllll}\n",
       " TYPE & YEAR & MONTH & DAY & HOUR & MINUTE & HUNDRED\\_BLOCK & NEIGHBOURHOOD & X & Y\\\\\n",
       " <chr> & <dbl> & <dbl> & <dbl> & <dbl> & <dbl> & <chr> & <chr> & <dbl> & <dbl>\\\\\n",
       "\\hline\n",
       "\t Break and Enter Commercial & 2012 & 12 & 14 &  8 & 52 & NA              & Oakridge & 491285.0 & 5453433\\\\\n",
       "\t Break and Enter Commercial & 2019 &  3 &  7 &  2 &  6 & 10XX SITKA SQ   & Fairview & 490613.0 & 5457110\\\\\n",
       "\t Break and Enter Commercial & 2019 &  8 & 27 &  4 & 12 & 10XX ALBERNI ST & West End & 491007.8 & 5459174\\\\\n",
       "\t Break and Enter Commercial & 2014 &  8 &  8 &  5 & 13 & 10XX ALBERNI ST & West End & 491015.9 & 5459166\\\\\n",
       "\t Break and Enter Commercial & 2020 &  7 & 28 & 19 & 12 & 10XX ALBERNI ST & West End & 491015.9 & 5459166\\\\\n",
       "\t Break and Enter Commercial & 2005 & 11 & 14 &  3 &  9 & 10XX ALBERNI ST & West End & 491021.4 & 5459161\\\\\n",
       "\\end{tabular}\n"
      ],
      "text/markdown": [
       "\n",
       "A tibble: 6 × 10\n",
       "\n",
       "| TYPE &lt;chr&gt; | YEAR &lt;dbl&gt; | MONTH &lt;dbl&gt; | DAY &lt;dbl&gt; | HOUR &lt;dbl&gt; | MINUTE &lt;dbl&gt; | HUNDRED_BLOCK &lt;chr&gt; | NEIGHBOURHOOD &lt;chr&gt; | X &lt;dbl&gt; | Y &lt;dbl&gt; |\n",
       "|---|---|---|---|---|---|---|---|---|---|\n",
       "| Break and Enter Commercial | 2012 | 12 | 14 |  8 | 52 | NA              | Oakridge | 491285.0 | 5453433 |\n",
       "| Break and Enter Commercial | 2019 |  3 |  7 |  2 |  6 | 10XX SITKA SQ   | Fairview | 490613.0 | 5457110 |\n",
       "| Break and Enter Commercial | 2019 |  8 | 27 |  4 | 12 | 10XX ALBERNI ST | West End | 491007.8 | 5459174 |\n",
       "| Break and Enter Commercial | 2014 |  8 |  8 |  5 | 13 | 10XX ALBERNI ST | West End | 491015.9 | 5459166 |\n",
       "| Break and Enter Commercial | 2020 |  7 | 28 | 19 | 12 | 10XX ALBERNI ST | West End | 491015.9 | 5459166 |\n",
       "| Break and Enter Commercial | 2005 | 11 | 14 |  3 |  9 | 10XX ALBERNI ST | West End | 491021.4 | 5459161 |\n",
       "\n"
      ],
      "text/plain": [
       "  TYPE                       YEAR MONTH DAY HOUR MINUTE HUNDRED_BLOCK  \n",
       "1 Break and Enter Commercial 2012 12    14   8   52     NA             \n",
       "2 Break and Enter Commercial 2019  3     7   2    6     10XX SITKA SQ  \n",
       "3 Break and Enter Commercial 2019  8    27   4   12     10XX ALBERNI ST\n",
       "4 Break and Enter Commercial 2014  8     8   5   13     10XX ALBERNI ST\n",
       "5 Break and Enter Commercial 2020  7    28  19   12     10XX ALBERNI ST\n",
       "6 Break and Enter Commercial 2005 11    14   3    9     10XX ALBERNI ST\n",
       "  NEIGHBOURHOOD X        Y      \n",
       "1 Oakridge      491285.0 5453433\n",
       "2 Fairview      490613.0 5457110\n",
       "3 West End      491007.8 5459174\n",
       "4 West End      491015.9 5459166\n",
       "5 West End      491015.9 5459166\n",
       "6 West End      491021.4 5459161"
      ]
     },
     "metadata": {},
     "output_type": "display_data"
    }
   ],
   "source": [
    "head(crime_data)"
   ]
  },
  {
   "cell_type": "markdown",
   "metadata": {},
   "source": [
    "group by the types of crime. since we are looking at the type of crime we have to focus on that and sort the data for that.....\n",
    "\n"
   ]
  },
  {
   "cell_type": "code",
   "execution_count": 107,
   "metadata": {},
   "outputs": [
    {
     "data": {
      "text/html": [
       "<table>\n",
       "<caption>A tibble: 6 × 2</caption>\n",
       "<thead>\n",
       "\t<tr><th scope=col>TYPE</th><th scope=col>HOUR</th></tr>\n",
       "\t<tr><th scope=col>&lt;chr&gt;</th><th scope=col>&lt;dbl&gt;</th></tr>\n",
       "</thead>\n",
       "<tbody>\n",
       "\t<tr><td>Homicide</td><td>0</td></tr>\n",
       "\t<tr><td>Homicide</td><td>0</td></tr>\n",
       "\t<tr><td>Homicide</td><td>0</td></tr>\n",
       "\t<tr><td>Homicide</td><td>0</td></tr>\n",
       "\t<tr><td>Homicide</td><td>0</td></tr>\n",
       "\t<tr><td>Homicide</td><td>0</td></tr>\n",
       "</tbody>\n",
       "</table>\n"
      ],
      "text/latex": [
       "A tibble: 6 × 2\n",
       "\\begin{tabular}{ll}\n",
       " TYPE & HOUR\\\\\n",
       " <chr> & <dbl>\\\\\n",
       "\\hline\n",
       "\t Homicide & 0\\\\\n",
       "\t Homicide & 0\\\\\n",
       "\t Homicide & 0\\\\\n",
       "\t Homicide & 0\\\\\n",
       "\t Homicide & 0\\\\\n",
       "\t Homicide & 0\\\\\n",
       "\\end{tabular}\n"
      ],
      "text/markdown": [
       "\n",
       "A tibble: 6 × 2\n",
       "\n",
       "| TYPE &lt;chr&gt; | HOUR &lt;dbl&gt; |\n",
       "|---|---|\n",
       "| Homicide | 0 |\n",
       "| Homicide | 0 |\n",
       "| Homicide | 0 |\n",
       "| Homicide | 0 |\n",
       "| Homicide | 0 |\n",
       "| Homicide | 0 |\n",
       "\n"
      ],
      "text/plain": [
       "  TYPE     HOUR\n",
       "1 Homicide 0   \n",
       "2 Homicide 0   \n",
       "3 Homicide 0   \n",
       "4 Homicide 0   \n",
       "5 Homicide 0   \n",
       "6 Homicide 0   "
      ]
     },
     "metadata": {},
     "output_type": "display_data"
    },
    {
     "data": {
      "text/html": [
       "<table>\n",
       "<caption>A tibble: 6 × 2</caption>\n",
       "<thead>\n",
       "\t<tr><th scope=col>TYPE</th><th scope=col>HOUR</th></tr>\n",
       "\t<tr><th scope=col>&lt;chr&gt;</th><th scope=col>&lt;dbl&gt;</th></tr>\n",
       "</thead>\n",
       "<tbody>\n",
       "\t<tr><td>Vehicle Collision or Pedestrian Struck (with Injury)</td><td>23</td></tr>\n",
       "\t<tr><td>Vehicle Collision or Pedestrian Struck (with Injury)</td><td>23</td></tr>\n",
       "\t<tr><td>Vehicle Collision or Pedestrian Struck (with Injury)</td><td>23</td></tr>\n",
       "\t<tr><td>Vehicle Collision or Pedestrian Struck (with Injury)</td><td>23</td></tr>\n",
       "\t<tr><td>Vehicle Collision or Pedestrian Struck (with Injury)</td><td>23</td></tr>\n",
       "\t<tr><td>Vehicle Collision or Pedestrian Struck (with Injury)</td><td>23</td></tr>\n",
       "</tbody>\n",
       "</table>\n"
      ],
      "text/latex": [
       "A tibble: 6 × 2\n",
       "\\begin{tabular}{ll}\n",
       " TYPE & HOUR\\\\\n",
       " <chr> & <dbl>\\\\\n",
       "\\hline\n",
       "\t Vehicle Collision or Pedestrian Struck (with Injury) & 23\\\\\n",
       "\t Vehicle Collision or Pedestrian Struck (with Injury) & 23\\\\\n",
       "\t Vehicle Collision or Pedestrian Struck (with Injury) & 23\\\\\n",
       "\t Vehicle Collision or Pedestrian Struck (with Injury) & 23\\\\\n",
       "\t Vehicle Collision or Pedestrian Struck (with Injury) & 23\\\\\n",
       "\t Vehicle Collision or Pedestrian Struck (with Injury) & 23\\\\\n",
       "\\end{tabular}\n"
      ],
      "text/markdown": [
       "\n",
       "A tibble: 6 × 2\n",
       "\n",
       "| TYPE &lt;chr&gt; | HOUR &lt;dbl&gt; |\n",
       "|---|---|\n",
       "| Vehicle Collision or Pedestrian Struck (with Injury) | 23 |\n",
       "| Vehicle Collision or Pedestrian Struck (with Injury) | 23 |\n",
       "| Vehicle Collision or Pedestrian Struck (with Injury) | 23 |\n",
       "| Vehicle Collision or Pedestrian Struck (with Injury) | 23 |\n",
       "| Vehicle Collision or Pedestrian Struck (with Injury) | 23 |\n",
       "| Vehicle Collision or Pedestrian Struck (with Injury) | 23 |\n",
       "\n"
      ],
      "text/plain": [
       "  TYPE                                                 HOUR\n",
       "1 Vehicle Collision or Pedestrian Struck (with Injury) 23  \n",
       "2 Vehicle Collision or Pedestrian Struck (with Injury) 23  \n",
       "3 Vehicle Collision or Pedestrian Struck (with Injury) 23  \n",
       "4 Vehicle Collision or Pedestrian Struck (with Injury) 23  \n",
       "5 Vehicle Collision or Pedestrian Struck (with Injury) 23  \n",
       "6 Vehicle Collision or Pedestrian Struck (with Injury) 23  "
      ]
     },
     "metadata": {},
     "output_type": "display_data"
    },
    {
     "name": "stderr",
     "output_type": "stream",
     "text": [
      "`summarise()` ungrouping output (override with `.groups` argument)\n",
      "\n"
     ]
    },
    {
     "data": {
      "text/html": [
       "<table>\n",
       "<caption>A tibble: 4 × 2</caption>\n",
       "<thead>\n",
       "\t<tr><th scope=col>TYPE</th><th scope=col>count</th></tr>\n",
       "\t<tr><th scope=col>&lt;chr&gt;</th><th scope=col>&lt;int&gt;</th></tr>\n",
       "</thead>\n",
       "<tbody>\n",
       "\t<tr><td>Homicide                                              </td><td>  274</td></tr>\n",
       "\t<tr><td>Offence Against a Person                              </td><td>66682</td></tr>\n",
       "\t<tr><td>Vehicle Collision or Pedestrian Struck (with Fatality)</td><td>  301</td></tr>\n",
       "\t<tr><td>Vehicle Collision or Pedestrian Struck (with Injury)  </td><td>26457</td></tr>\n",
       "</tbody>\n",
       "</table>\n"
      ],
      "text/latex": [
       "A tibble: 4 × 2\n",
       "\\begin{tabular}{ll}\n",
       " TYPE & count\\\\\n",
       " <chr> & <int>\\\\\n",
       "\\hline\n",
       "\t Homicide                                               &   274\\\\\n",
       "\t Offence Against a Person                               & 66682\\\\\n",
       "\t Vehicle Collision or Pedestrian Struck (with Fatality) &   301\\\\\n",
       "\t Vehicle Collision or Pedestrian Struck (with Injury)   & 26457\\\\\n",
       "\\end{tabular}\n"
      ],
      "text/markdown": [
       "\n",
       "A tibble: 4 × 2\n",
       "\n",
       "| TYPE &lt;chr&gt; | count &lt;int&gt; |\n",
       "|---|---|\n",
       "| Homicide                                               |   274 |\n",
       "| Offence Against a Person                               | 66682 |\n",
       "| Vehicle Collision or Pedestrian Struck (with Fatality) |   301 |\n",
       "| Vehicle Collision or Pedestrian Struck (with Injury)   | 26457 |\n",
       "\n"
      ],
      "text/plain": [
       "  TYPE                                                   count\n",
       "1 Homicide                                                 274\n",
       "2 Offence Against a Person                               66682\n",
       "3 Vehicle Collision or Pedestrian Struck (with Fatality)   301\n",
       "4 Vehicle Collision or Pedestrian Struck (with Injury)   26457"
      ]
     },
     "metadata": {},
     "output_type": "display_data"
    }
   ],
   "source": [
    "crime_data_grouped <- crime_data %>%\n",
    "            group_by(TYPE) %>%\n",
    "            select(TYPE, HOUR) %>%\n",
    "            data.frame()\n",
    "\n",
    "\n",
    "crime_data_sort <- crime_data_grouped[ order( crime_data_grouped$HOUR), ] %>%\n",
    "                select(TYPE, HOUR)%>%\n",
    "                as.tibble()%>%\n",
    "                filter(TYPE == \"Vehicle Collision or Pedestrian Struck (with Injury)\" | \n",
    "                       TYPE == \"Vehicle Collision or Pedestrian Struck (with Fatality)\"|\n",
    "                       TYPE == \"Homicide\" | \n",
    "                       TYPE == \"Offence Against a Person\")\n",
    "head(crime_data_sort)\n",
    "tail(crime_data_sort)\n",
    "cd_count <- crime_data_sort %>%\n",
    "            group_by(TYPE) %>%\n",
    "            summarize(count=n())\n",
    "cd_count\n"
   ]
  },
  {
   "cell_type": "code",
   "execution_count": null,
   "metadata": {},
   "outputs": [],
   "source": [
    "upscale_recipe <- recipe \n",
    "\n",
    "upscale(\n",
    "  f,\n",
    "  coord,\n",
    "  wavelet = \"haar\",\n",
    "  wtrafo = \"dwt\",\n",
    "  pad = mean(f),\n",
    "  color.maps = FALSE\n",
    ")"
   ]
  }
 ],
 "metadata": {
  "kernelspec": {
   "display_name": "R",
   "language": "R",
   "name": "ir"
  },
  "language_info": {
   "codemirror_mode": "r",
   "file_extension": ".r",
   "mimetype": "text/x-r-source",
   "name": "R",
   "pygments_lexer": "r",
   "version": "4.0.0"
  }
 },
 "nbformat": 4,
 "nbformat_minor": 4
}
